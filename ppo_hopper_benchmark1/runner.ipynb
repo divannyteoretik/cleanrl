{
 "cells": [
  {
   "cell_type": "code",
   "execution_count": null,
   "id": "790a1913-11cd-4eb4-a17e-82a47a8a2392",
   "metadata": {},
   "outputs": [],
   "source": [
    "# %%time\n",
    "# !python ppo_continuous_action.py --exp_name test1\n",
    "45\n"
   ]
  },
  {
   "cell_type": "code",
   "execution_count": 5,
   "id": "6c3df709-3167-4c22-a8b6-556756bcbd5b",
   "metadata": {},
   "outputs": [],
   "source": [
    "# 200K steps, train next 200K\n",
    "# run for 200K steps, with different seeds, and checkpoint at 200K"
   ]
  },
  {
   "cell_type": "code",
   "execution_count": 23,
   "id": "066b5675-5ce3-4110-a7e0-786602198257",
   "metadata": {},
   "outputs": [],
   "source": [
    "# https://stackoverflow.com/questions/71239557/export-tensorboard-with-pytorch-data-into-csv-with-python\n",
    "\n",
    "import traceback\n",
    "import pandas as pd\n",
    "from tensorboard.backend.event_processing.event_accumulator import EventAccumulator\n",
    "\n",
    "# Extraction function\n",
    "def tflog2pandas(path):\n",
    "    runlog_data = pd.DataFrame({\"metric\": [], \"value\": [], \"step\": []})\n",
    "    try:\n",
    "        event_acc = EventAccumulator(path)\n",
    "        event_acc.Reload()\n",
    "        tags = event_acc.Tags()[\"scalars\"]\n",
    "        for tag in tags:\n",
    "            event_list = event_acc.Scalars(tag)\n",
    "            values = list(map(lambda x: x.value, event_list))\n",
    "            step = list(map(lambda x: x.step, event_list))\n",
    "            r = {\"metric\": [tag] * len(step), \"value\": values, \"step\": step}\n",
    "            r = pd.DataFrame(r)\n",
    "            runlog_data = pd.concat([runlog_data, r])\n",
    "    # Dirty catch of DataLossError\n",
    "    except Exception:\n",
    "        print(\"Event file possibly corrupt: {}\".format(path))\n",
    "        traceback.print_exc()\n",
    "    return runlog_data\n",
    "\n",
    "if False:\n",
    "    path=\"runs/Hopper-v4__ppo_continuous_action__1__1701623044\" #folderpath\n",
    "    df=tflog2pandas(path)\n",
    "    df.to_csv(\"output.csv\")\n",
    "\n",
    "    import matplotlib.pyplot as plt\n",
    "    %matplotlib inline\n",
    "    plt.plot(df[df['metric'] == 'charts/episodic_return'].set_index('step')['value'])"
   ]
  },
  {
   "cell_type": "code",
   "execution_count": 114,
   "id": "365d5364-3063-46f7-9fff-5872f8d40bdd",
   "metadata": {},
   "outputs": [],
   "source": [
    "import shlex\n",
    "import subprocess\n",
    "n_trials = 1\n",
    "\n",
    "from psutil import pid_exists\n",
    "\n",
    "def wait_for_pids(pid_list):\n",
    "    print (\"start\", pd.Timestamp.now())\n",
    "    while True:\n",
    "        if len([1 for x in pid_list if psutil.Process(x).status() != 'zombie']) > 0:\n",
    "            time.sleep(15)\n",
    "        else:\n",
    "            print (\"done\", pd.Timestamp.now())\n",
    "            break"
   ]
  },
  {
   "cell_type": "code",
   "execution_count": 190,
   "id": "4eb3046c-c869-472c-8580-d28391883212",
   "metadata": {},
   "outputs": [],
   "source": [
    "n_trials = 10"
   ]
  },
  {
   "cell_type": "code",
   "execution_count": 191,
   "id": "b207ed37-4d4b-4c75-ac51-d8e71536a7de",
   "metadata": {},
   "outputs": [
    {
     "name": "stdout",
     "output_type": "stream",
     "text": [
      "start 2023-12-03 20:33:49.989053\n",
      "done 2023-12-03 21:01:51.637916\n"
     ]
    }
   ],
   "source": [
    "# step 1: run 10 different seeds of PPO continous action for 200k steps on hopper-v4\n",
    "pid_list = []\n",
    "for i in range(n_trials):\n",
    "    cmd = \"python ppo_continuous_action_0_to_200.py --exp_name '200K_step_ppo_default_params_v1' --total_timesteps 200000 --seed {}\".format(i)\n",
    "    cmds = shlex.split(cmd)\n",
    "    p = subprocess.Popen(cmds, start_new_session=True, stdout=subprocess.PIPE, stderr=subprocess.PIPE, stdin=subprocess.PIPE)\n",
    "    pid_list.append(p.pid)\n",
    "\n",
    "wait_for_pids(pid_list)"
   ]
  },
  {
   "cell_type": "code",
   "execution_count": 195,
   "id": "1586f082-efd9-4c43-a067-c4a5d9e46d4c",
   "metadata": {},
   "outputs": [
    {
     "name": "stdout",
     "output_type": "stream",
     "text": [
      "start 2023-12-03 23:02:51.208442\n",
      "done 2023-12-03 23:32:22.896163\n"
     ]
    }
   ],
   "source": [
    "# wait until above is done, then run \n",
    "# step 2: train seeds 1-10 from 200k-400k steps, to provide 'base line' no resets\n",
    "pid_list = []\n",
    "for i in range(n_trials):\n",
    "    cmd = \"python ppo_continuous_action_200_to_400_no_reset.py --exp_name '200K_step_ppo_default_params_v1' --total_timesteps 200000 --seed {}\".format(i)\n",
    "    cmds = shlex.split(cmd)\n",
    "    p = subprocess.Popen(cmds, start_new_session=True, stdout=subprocess.PIPE, stderr=subprocess.PIPE, stdin=subprocess.PIPE)\n",
    "    pid_list.append(p.pid)\n",
    "\n",
    "wait_for_pids(pid_list)"
   ]
  },
  {
   "cell_type": "code",
   "execution_count": 193,
   "id": "5c7e4eb5-1d77-4a29-ba43-244469d7c0e2",
   "metadata": {},
   "outputs": [
    {
     "name": "stdout",
     "output_type": "stream",
     "text": [
      "start 2023-12-03 21:30:24.437343\n",
      "done 2023-12-03 21:59:11.036435\n"
     ]
    }
   ],
   "source": [
    "# wait until above is done, then run \n",
    "# step 3: train seeds 1-10 from 200k-400k. before starting, reset last layer of actor model\n",
    "\n",
    "pid_list = []\n",
    "for i in range(n_trials):\n",
    "    cmd = \"python ppo_continuous_action_200_to_400_reset_last_layer_of_actor.py --exp_name '200K_step_ppo_default_params_v1' --total_timesteps 200000 --seed {}\".format(i)\n",
    "    cmds = shlex.split(cmd)\n",
    "    p = subprocess.Popen(cmds, start_new_session=True, stdout=subprocess.PIPE, stderr=subprocess.PIPE, stdin=subprocess.PIPE)\n",
    "    pid_list.append(p.pid)\n",
    "\n",
    "wait_for_pids(pid_list)"
   ]
  },
  {
   "cell_type": "code",
   "execution_count": 194,
   "id": "82e7c8b3-8a0e-4cc8-9d26-38a6c5100931",
   "metadata": {},
   "outputs": [
    {
     "name": "stdout",
     "output_type": "stream",
     "text": [
      "start 2023-12-03 21:59:11.624353\n",
      "done 2023-12-03 22:28:13.216003\n"
     ]
    }
   ],
   "source": [
    "# wait until above is done, then run \n",
    "# step 4: train seeds 1-10 from 200k-400k. before starting, reset last layer of critic model\n",
    "\n",
    "pid_list = []\n",
    "for i in range(n_trials):\n",
    "    cmd = \"python ppo_continuous_action_200_to_400_reset_last_layer_of_critic.py --exp_name '200K_step_ppo_default_params_v1' --total_timesteps 200000 --seed {}\".format(i)\n",
    "    cmds = shlex.split(cmd)\n",
    "    p = subprocess.Popen(cmds, start_new_session=True, stdout=subprocess.PIPE, stderr=subprocess.PIPE, stdin=subprocess.PIPE)\n",
    "    pid_list.append(p.pid)\n",
    "\n",
    "wait_for_pids(pid_list)"
   ]
  },
  {
   "cell_type": "code",
   "execution_count": null,
   "id": "e45a83f9-4b83-4394-830e-62bedb93b8ef",
   "metadata": {},
   "outputs": [],
   "source": [
    "# model = TheModelClass(*args, **kwargs)\n",
    "# model.load_state_dict(torch.load(exp_root + \"/\" + ))\n",
    "# model.eval()"
   ]
  },
  {
   "cell_type": "code",
   "execution_count": 183,
   "id": "acb29e5e-ff03-43b7-8623-2cd425bc7289",
   "metadata": {},
   "outputs": [
    {
     "data": {
      "text/plain": [
       "[1723699]"
      ]
     },
     "execution_count": 183,
     "metadata": {},
     "output_type": "execute_result"
    }
   ],
   "source": [
    "pid_list"
   ]
  },
  {
   "cell_type": "code",
   "execution_count": 184,
   "id": "bdac6de6-29f9-4019-99d1-5cbc6428c8c8",
   "metadata": {},
   "outputs": [],
   "source": [
    "! kill 1723699"
   ]
  },
  {
   "cell_type": "code",
   "execution_count": null,
   "id": "bf2df190-dab0-400b-ac18-4b73db55856e",
   "metadata": {},
   "outputs": [],
   "source": []
  },
  {
   "cell_type": "code",
   "execution_count": null,
   "id": "149aaa00-b4a1-4c04-bb80-99699609082f",
   "metadata": {},
   "outputs": [],
   "source": []
  },
  {
   "cell_type": "code",
   "execution_count": null,
   "id": "00907032-b452-4000-8d8c-1ba4eef8b44c",
   "metadata": {},
   "outputs": [],
   "source": []
  },
  {
   "cell_type": "code",
   "execution_count": null,
   "id": "674928bf-ef23-42d2-92ce-9ca8120d1b45",
   "metadata": {},
   "outputs": [],
   "source": []
  },
  {
   "cell_type": "code",
   "execution_count": null,
   "id": "5df91448-bd81-457b-834e-3c8d3e291c1b",
   "metadata": {},
   "outputs": [],
   "source": [
    "load_state_dict('')"
   ]
  },
  {
   "cell_type": "code",
   "execution_count": null,
   "id": "a4c701c8-6f9b-4ef7-9b4e-aee3a3472ae6",
   "metadata": {},
   "outputs": [],
   "source": [
    "200K_step_ppo_default_params_v1.cleanrl_model"
   ]
  },
  {
   "cell_type": "code",
   "execution_count": 128,
   "id": "adb0bf5d-d70f-4230-826d-eadbe593401e",
   "metadata": {},
   "outputs": [],
   "source": []
  },
  {
   "cell_type": "code",
   "execution_count": null,
   "id": "685eba96-db65-44fa-9053-3aa2d631bb3b",
   "metadata": {},
   "outputs": [],
   "source": []
  },
  {
   "cell_type": "code",
   "execution_count": null,
   "id": "4673fb89-8163-4e68-920c-c6add0d2e512",
   "metadata": {},
   "outputs": [],
   "source": []
  },
  {
   "cell_type": "code",
   "execution_count": 135,
   "id": "9c67521b-105f-4c15-9e51-d1f4f4195949",
   "metadata": {},
   "outputs": [],
   "source": [
    "# args = tyro.cli(Args)\n",
    "\n",
    "envs = gym.vector.SyncVectorEnv(\n",
    "    [make_env(\"Hopper-v4\", i, True, 'fobar', 1) for i in range(1)]\n",
    ")\n"
   ]
  },
  {
   "cell_type": "code",
   "execution_count": 164,
   "id": "5cf5d87f-332a-4dca-833a-ddab0db006c9",
   "metadata": {},
   "outputs": [],
   "source": [
    "device = 'cpu'\n",
    "\n",
    "agent = Agent(envs)\n",
    "agent.load_state_dict(torch.load(read_weight_path(exp_root)))\n",
    "agent = agent.to(device)\n"
   ]
  },
  {
   "cell_type": "code",
   "execution_count": 165,
   "id": "0bdc1b73-b98c-49af-849e-9728eba210ef",
   "metadata": {},
   "outputs": [
    {
     "data": {
      "text/plain": [
       "Linear(in_features=64, out_features=3, bias=True)"
      ]
     },
     "execution_count": 165,
     "metadata": {},
     "output_type": "execute_result"
    }
   ],
   "source": [
    "agent.actor_mean[4]"
   ]
  },
  {
   "cell_type": "code",
   "execution_count": 166,
   "id": "a32094c1-748b-47d5-bb06-f1dfd29fe916",
   "metadata": {},
   "outputs": [],
   "source": [
    "# agent.critic_mean[4]"
   ]
  },
  {
   "cell_type": "code",
   "execution_count": 168,
   "id": "a01a7a65-24d7-48cd-8424-4d1793463d20",
   "metadata": {},
   "outputs": [
    {
     "data": {
      "text/plain": [
       "<matplotlib.image.AxesImage at 0x7f7ac8081490>"
      ]
     },
     "execution_count": 168,
     "metadata": {},
     "output_type": "execute_result"
    },
    {
     "data": {
      "image/png": "[encoded data removed]",
      "text/plain": [
       "<Figure size 640x480 with 1 Axes>"
      ]
     },
     "metadata": {},
     "output_type": "display_data"
    }
   ],
   "source": [
    "plt.imshow(agent.critic[4].weight.cpu().detach().numpy(), vmin=-0.5, vmax=0.5)\n"
   ]
  },
  {
   "cell_type": "code",
   "execution_count": 169,
   "id": "55350d3f-0175-490b-b502-93317d83bcfb",
   "metadata": {},
   "outputs": [],
   "source": [
    "layer = agent.critic[4]\n",
    "torch.nn.init.orthogonal_(layer.weight, 0.01)\n",
    "layer.bias.data.zero_()\n"
   ]
  },
  {
   "cell_type": "code",
   "execution_count": null,
   "id": "ef3f500f-dc26-4402-a633-70ea580fad7f",
   "metadata": {},
   "outputs": [],
   "source": [
    "4"
   ]
  },
  {
   "cell_type": "code",
   "execution_count": 171,
   "id": "71aee773-bf2f-434c-9603-d633dc140bbc",
   "metadata": {},
   "outputs": [
    {
     "data": {
      "text/plain": [
       "<matplotlib.image.AxesImage at 0x7f7ac8053c40>"
      ]
     },
     "execution_count": 171,
     "metadata": {},
     "output_type": "execute_result"
    },
    {
     "data": {
      "image/png": "[encoded data removed]",
      "text/plain": [
       "<Figure size 640x480 with 1 Axes>"
      ]
     },
     "metadata": {},
     "output_type": "display_data"
    }
   ],
   "source": [
    "plt.imshow(agent.critic[4].weight.cpu().detach().numpy(), vmin=-0.5, vmax=0.5)"
   ]
  },
  {
   "cell_type": "code",
   "execution_count": null,
   "id": "132b11b3-464c-4a94-a791-409fc3a7102b",
   "metadata": {},
   "outputs": [],
   "source": [
    "45"
   ]
  },
  {
   "cell_type": "code",
   "execution_count": null,
   "id": "33076352-0ea4-43a2-b1de-038b5a5186ea",
   "metadata": {},
   "outputs": [],
   "source": [
    "45"
   ]
  },
  {
   "cell_type": "code",
   "execution_count": null,
   "id": "3a7d2163-22a5-4253-8707-34689d19d9c2",
   "metadata": {},
   "outputs": [],
   "source": [
    "45"
   ]
  },
  {
   "cell_type": "code",
   "execution_count": null,
   "id": "93d8f305-d091-4f92-9318-2b24d9d114c5",
   "metadata": {},
   "outputs": [],
   "source": []
  }
 ],
 "metadata": {
  "kernelspec": {
   "display_name": "Python 3 (ipykernel)",
   "language": "python",
   "name": "python3"
  },
  "language_info": {
   "codemirror_mode": {
    "name": "ipython",
    "version": 3
   },
   "file_extension": ".py",
   "mimetype": "text/x-python",
   "name": "python",
   "nbconvert_exporter": "python",
   "pygments_lexer": "ipython3",
   "version": "3.8.18"
  }
 },
 "nbformat": 4,
 "nbformat_minor": 5
}
