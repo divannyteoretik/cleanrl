{
 "cells": [
  {
   "cell_type": "code",
   "execution_count": 1,
   "id": "0620f0fc-ba76-475b-bf24-787474a144f3",
   "metadata": {},
   "outputs": [
    {
     "name": "stderr",
     "output_type": "stream",
     "text": [
      "/home/gildroid/miniconda3/envs/py38/lib/python3.8/site-packages/tqdm/auto.py:21: TqdmWarning: IProgress not found. Please update jupyter and ipywidgets. See https://ipywidgets.readthedocs.io/en/stable/user_install.html\n",
      "  from .autonotebook import tqdm as notebook_tqdm\n",
      "/home/gildroid/miniconda3/envs/py38/lib/python3.8/site-packages/torch/utils/tensorboard/__init__.py:4: DeprecationWarning: distutils Version classes are deprecated. Use packaging.version instead.\n",
      "  if not hasattr(tensorboard, \"__version__\") or LooseVersion(\n",
      " 48%|████████████████████████████████████████████████████████████████████████▉                                                                               | 24/50 [2:01:23<2:11:30, 303.47s/it]\n",
      "\n",
      "KeyboardInterrupt\n",
      "\n"
     ]
    }
   ],
   "source": [
    "%%time\n",
    "%load_ext autoreload\n",
    "%autoreload 2\n",
    "    \n",
    "from fl_dqn_v3 import *\n",
    "from tqdm import tqdm\n",
    "from glob import glob\n",
    "\n",
    "args = Args\n",
    "outputs = {}\n",
    "n_trials = 50 # number of random seeds to try\n",
    "\n",
    "for t in tqdm(range(n_trials)):\n",
    "    for rr in [1, 16]:\n",
    "        for wr in [0, 100]:\n",
    "            for map_rule in ['3x3_random', '3x3_markov', '3x3_markov2']:\n",
    "                for lr in [0.001, 0.005, 0.01]:\n",
    "                    for bs in [4, 16, 64]:\n",
    "                        args.n_episodes = 200 # number of episodes to run for each trial\n",
    "                        args.batch_size = bs\n",
    "                        args.replay_ratio = rr\n",
    "                        args.weight_reset = wr # reset NN weights ever {wr} frames\n",
    "                        args.n_tests = 0 # ignore\n",
    "                        args.learning_rate = lr # learning rate\n",
    "                        args.map_rule = map_rule # map as defined in fl_envs.py\n",
    "                        q_network, logger, rb, log_path, scores = run_trial(args, verbose=False)\n",
    "                        outputs[(map_rule, t, rr, wr, lr, bs)] = pd.Series(scores).copy()\n",
    "    \n",
    "    output_df = pd.DataFrame(pd.concat(outputs, axis=1).unstack())\n",
    "    output_df.index.names = ['map_rule', 'trial', 'replay_ratio', 'reset_frequency', 'learning_rate', 'batch_size', 'frame']\n",
    "    output_df.columns=['score']\n",
    "    output_df.to_pickle('checkpoint1_{}.p'.format(t))\n"
   ]
  },
  {
   "cell_type": "code",
   "execution_count": null,
   "id": "0ae33054-b577-4cbb-b1d3-a403c285ed30",
   "metadata": {},
   "outputs": [],
   "source": []
  }
 ],
 "metadata": {
  "kernelspec": {
   "display_name": "Python 3 (ipykernel)",
   "language": "python",
   "name": "python3"
  },
  "language_info": {
   "codemirror_mode": {
    "name": "ipython",
    "version": 3
   },
   "file_extension": ".py",
   "mimetype": "text/x-python",
   "name": "python",
   "nbconvert_exporter": "python",
   "pygments_lexer": "ipython3",
   "version": "3.8.18"
  }
 },
 "nbformat": 4,
 "nbformat_minor": 5
}
